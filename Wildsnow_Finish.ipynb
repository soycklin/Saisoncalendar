{
 "cells": [
  {
   "cell_type": "code",
   "execution_count": 4,
   "metadata": {},
   "outputs": [
    {
     "name": "stdout",
     "output_type": "stream",
     "text": [
      "Hello YOU! You wanna eat more sustainably? Then let me tell you whether your veggies and fruits are seasonal right now or not.\n",
      " \n",
      "It is  December .\n",
      "\u001b[1mNow tell us ,please, which vegetable or fruit you wanna look for:\u001b[0m\n",
      "I don't know this word. Please type in again: Cherry\n",
      " \n",
      "Cherry is not seasonal in  December . You should look for alternatives\n",
      "Do you want me to look for an alternative for you?\n",
      "Yes or no? yes\n",
      " \n",
      "Fantastic decision! Let me see what I can offer you: \n",
      " \n",
      "You could eat Pear as alternative. \n"
     ]
    },
    {
     "data": {
      "image/jpeg": "[encoded data removed]",
      "text/plain": [
       "<IPython.core.display.Image object>"
      ]
     },
     "metadata": {},
     "output_type": "display_data"
    },
    {
     "name": "stdout",
     "output_type": "stream",
     "text": [
      "See you!\n"
     ]
    }
   ],
   "source": [
    "#welcome the user\n",
    "print ('Hello YOU! You wanna eat more sustainably? Then let me tell you whether your veggies and fruits are seasonal right now or not.')\n",
    "import pandas as pd\n",
    "df = pd.read_excel(r'C:\\Users\\linda\\OneDrive - Hochschule Furtwangen\\BMP\\Programming\\Python\\SaisonkalendarX.xls', index_col=0, na_values=['unknown'])\n",
    "#get date of today and the month\n",
    "from datetime import date\n",
    "heute = date.today()\n",
    "month = heute.strftime(\"%B\")\n",
    "print(' ')\n",
    "print('It is ',month, '.')\n",
    "x = 1\n",
    "while x == 1:\n",
    "    print ('\\033[1m' + 'Now tell us ,please, which vegetable or fruit you wanna look for:' + '\\033[0m' )\n",
    "    from itertools import chain, repeat\n",
    "    exists = False\n",
    "    while exists == False:\n",
    "        benutzereingabe = input(\"I don't know this word. Please type in again: \")\n",
    "        replies = map(input, benutzereingabe)\n",
    "        print(' ')\n",
    "        exists = benutzereingabe in df.Fruit\n",
    "    else:\n",
    "        #import table from excel\n",
    "        #get certain value given in the excel table(importes with pandas) which is either 1 or 0\n",
    "        df.loc[benutzereingabe,month]\n",
    "        #proof seasonality\n",
    "        seasonality = df.loc[benutzereingabe,month]\n",
    "        if seasonality == 1:\n",
    "            #jump to 'Bis bald \n",
    "            x = x+2\n",
    "            print('It is ', benutzereingabe, 'season right now.You are on a good way to a sustainable life.')\n",
    "        else:\n",
    "            print( benutzereingabe, 'is not seasonal in ',month,'. You should look for alternatives')\n",
    "            print('Do you want me to look for an alternative for you?')\n",
    "            answer = input('\\033[32m' + '\\033[1m' + 'Yes ' + '\\033[0m' + 'or ' + '\\033[31m' +'\\033[1m' + 'no?' + '\\033[0m' + ' ')\n",
    "            print(' ')\n",
    "            if answer in ['No','no', 'na', 'Na', 'N', 'n']:\n",
    "                print('Alright, I hope I can help you out another time!')\n",
    "                x=1\n",
    "\n",
    "                #here wee need a kind of jump back to the start function\n",
    "            elif answer in ['Yes','yes', 'y', 'Y']:\n",
    "                    print('Fantastic decision! Let me see what I can offer you: ')\n",
    "                    print(' ')\n",
    "                    x = x+1\n",
    "            else:\n",
    "                answer2 = input('Something did not work. Please type in again: Yes or no?')\n",
    "                if answer2 in [ 'Yes','yes']:\n",
    "                    print('Fantastic decision! Let me see what I can offer you: ')\n",
    "                    x = x+1\n",
    "                elif answer2 in ['No','no']:\n",
    "                    x = x+2\n",
    "    while x==2:\n",
    "        gb = df.loc[benutzereingabe,'Category']\n",
    "        c = df.filter(like = month)\n",
    "        z = df[df.Category==gb]\n",
    "        s = z[z[month]==1]\n",
    "        #??????\n",
    "        alternative = s.iloc[0]['Fruit']\n",
    "        print('You could eat',alternative, 'as alternative. ')\n",
    "        from IPython.display import Image, display\n",
    "        display (Image(filename =f\"{alternative}.jpg\"))\n",
    "        #show image of alternative n\n",
    "        x= x+1\n",
    "\n",
    "        #if current == 1:\n",
    "         #   if gb == gc:\n",
    "          #      print('You could eat ',alternative, 'as alternative. ')\n",
    "           # else:\n",
    "            #    print('Unfortunately we don't have an alternate option for you in our system!')\n",
    "        #else:\n",
    "            #print('Leider gibt es keine Alternative. Du musst verhungern!')\n",
    "    if x >=3:\n",
    "        print('See you!')"
   ]
  },
  {
   "cell_type": "code",
   "execution_count": null,
   "metadata": {},
   "outputs": [],
   "source": []
  },
  {
   "cell_type": "code",
   "execution_count": null,
   "metadata": {},
   "outputs": [],
   "source": []
  },
  {
   "cell_type": "code",
   "execution_count": null,
   "metadata": {},
   "outputs": [],
   "source": []
  }
 ],
 "metadata": {
  "kernelspec": {
   "display_name": "Python 3",
   "language": "python",
   "name": "python3"
  },
  "language_info": {
   "codemirror_mode": {
    "name": "ipython",
    "version": 3
   },
   "file_extension": ".py",
   "mimetype": "text/x-python",
   "name": "python",
   "nbconvert_exporter": "python",
   "pygments_lexer": "ipython3",
   "version": "3.8.5"
  }
 },
 "nbformat": 4,
 "nbformat_minor": 4
}
